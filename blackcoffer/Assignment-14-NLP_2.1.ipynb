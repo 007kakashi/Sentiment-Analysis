{
 "cells": [
  {
   "cell_type": "code",
   "execution_count": 330,
   "id": "9e2001b1",
   "metadata": {},
   "outputs": [],
   "source": [
    "import pandas as pd\n",
    "import numpy as np"
   ]
  },
  {
   "cell_type": "code",
   "execution_count": 331,
   "id": "18e16351",
   "metadata": {},
   "outputs": [],
   "source": [
    "data=pd.read_csv('Iphone-11_Review.csv',index_col=0)"
   ]
  },
  {
   "cell_type": "code",
   "execution_count": 332,
   "id": "b0b5ecbd",
   "metadata": {},
   "outputs": [
    {
     "data": {
      "text/html": [
       "<div>\n",
       "<style scoped>\n",
       "    .dataframe tbody tr th:only-of-type {\n",
       "        vertical-align: middle;\n",
       "    }\n",
       "\n",
       "    .dataframe tbody tr th {\n",
       "        vertical-align: top;\n",
       "    }\n",
       "\n",
       "    .dataframe thead th {\n",
       "        text-align: right;\n",
       "    }\n",
       "</style>\n",
       "<table border=\"1\" class=\"dataframe\">\n",
       "  <thead>\n",
       "    <tr style=\"text-align: right;\">\n",
       "      <th></th>\n",
       "      <th>name</th>\n",
       "      <th>titles</th>\n",
       "      <th>rating</th>\n",
       "      <th>comments</th>\n",
       "    </tr>\n",
       "  </thead>\n",
       "  <tbody>\n",
       "    <tr>\n",
       "      <th>0</th>\n",
       "      <td>Abhishek</td>\n",
       "      <td>iPhone 11 review</td>\n",
       "      <td>2</td>\n",
       "      <td>iPhone11 Review A person who uses every major ...</td>\n",
       "    </tr>\n",
       "    <tr>\n",
       "      <th>1</th>\n",
       "      <td>malleshk</td>\n",
       "      <td>2 years completed</td>\n",
       "      <td>4</td>\n",
       "      <td>Battery lifePhone performanceCalling feature/q...</td>\n",
       "    </tr>\n",
       "    <tr>\n",
       "      <th>2</th>\n",
       "      <td>PR</td>\n",
       "      <td>Beast with a limp</td>\n",
       "      <td>5</td>\n",
       "      <td>Been almost 10 months I have been using the iP...</td>\n",
       "    </tr>\n",
       "    <tr>\n",
       "      <th>3</th>\n",
       "      <td>stella</td>\n",
       "      <td>The best iPhone - perfect combination of featu...</td>\n",
       "      <td>4</td>\n",
       "      <td>This is my first iPhone. After being an Androi...</td>\n",
       "    </tr>\n",
       "    <tr>\n",
       "      <th>4</th>\n",
       "      <td>Gurlal Singh</td>\n",
       "      <td>good</td>\n",
       "      <td>5</td>\n",
       "      <td>good product</td>\n",
       "    </tr>\n",
       "  </tbody>\n",
       "</table>\n",
       "</div>"
      ],
      "text/plain": [
       "           name                                             titles  rating  \\\n",
       "0      Abhishek                                   iPhone 11 review       2   \n",
       "1      malleshk                                  2 years completed       4   \n",
       "2            PR                                  Beast with a limp       5   \n",
       "3        stella  The best iPhone - perfect combination of featu...       4   \n",
       "4  Gurlal Singh                                               good       5   \n",
       "\n",
       "                                            comments  \n",
       "0  iPhone11 Review A person who uses every major ...  \n",
       "1  Battery lifePhone performanceCalling feature/q...  \n",
       "2  Been almost 10 months I have been using the iP...  \n",
       "3  This is my first iPhone. After being an Androi...  \n",
       "4                                       good product  "
      ]
     },
     "execution_count": 332,
     "metadata": {},
     "output_type": "execute_result"
    }
   ],
   "source": [
    "data.head()"
   ]
  },
  {
   "cell_type": "code",
   "execution_count": 333,
   "id": "5191f8ba",
   "metadata": {},
   "outputs": [
    {
     "data": {
      "text/plain": [
       "28"
      ]
     },
     "execution_count": 333,
     "metadata": {},
     "output_type": "execute_result"
    }
   ],
   "source": [
    "data.duplicated().sum()"
   ]
  },
  {
   "cell_type": "code",
   "execution_count": 334,
   "id": "7c240820",
   "metadata": {},
   "outputs": [],
   "source": [
    "data.drop_duplicates(inplace=True)"
   ]
  },
  {
   "cell_type": "code",
   "execution_count": 335,
   "id": "c41090b6",
   "metadata": {},
   "outputs": [
    {
     "data": {
      "text/plain": [
       "name         0\n",
       "titles       1\n",
       "rating       0\n",
       "comments    75\n",
       "dtype: int64"
      ]
     },
     "execution_count": 335,
     "metadata": {},
     "output_type": "execute_result"
    }
   ],
   "source": [
    "data.isna().sum()"
   ]
  },
  {
   "cell_type": "code",
   "execution_count": 336,
   "id": "9203d233",
   "metadata": {},
   "outputs": [],
   "source": [
    "data.dropna(inplace=True)"
   ]
  },
  {
   "cell_type": "code",
   "execution_count": 337,
   "id": "c1c5c45f",
   "metadata": {},
   "outputs": [],
   "source": [
    "data.reset_index(inplace=True)"
   ]
  },
  {
   "cell_type": "code",
   "execution_count": 338,
   "id": "eaf37273",
   "metadata": {},
   "outputs": [
    {
     "name": "stdout",
     "output_type": "stream",
     "text": [
      "<class 'pandas.core.frame.DataFrame'>\n",
      "RangeIndex: 3726 entries, 0 to 3725\n",
      "Data columns (total 5 columns):\n",
      " #   Column    Non-Null Count  Dtype \n",
      "---  ------    --------------  ----- \n",
      " 0   index     3726 non-null   int64 \n",
      " 1   name      3726 non-null   object\n",
      " 2   titles    3726 non-null   object\n",
      " 3   rating    3726 non-null   int64 \n",
      " 4   comments  3726 non-null   object\n",
      "dtypes: int64(2), object(3)\n",
      "memory usage: 145.7+ KB\n"
     ]
    }
   ],
   "source": [
    "data.info()"
   ]
  },
  {
   "cell_type": "code",
   "execution_count": 339,
   "id": "5f327acb",
   "metadata": {},
   "outputs": [
    {
     "data": {
      "text/plain": [
       "index       0\n",
       "name        0\n",
       "titles      0\n",
       "rating      0\n",
       "comments    0\n",
       "dtype: int64"
      ]
     },
     "execution_count": 339,
     "metadata": {},
     "output_type": "execute_result"
    }
   ],
   "source": [
    "data.isna().sum()"
   ]
  },
  {
   "cell_type": "code",
   "execution_count": 340,
   "id": "6167b251",
   "metadata": {},
   "outputs": [
    {
     "data": {
      "text/plain": [
       "0"
      ]
     },
     "execution_count": 340,
     "metadata": {},
     "output_type": "execute_result"
    }
   ],
   "source": [
    "data.duplicated().sum()"
   ]
  },
  {
   "cell_type": "code",
   "execution_count": 341,
   "id": "a7ca3d5b",
   "metadata": {},
   "outputs": [],
   "source": [
    "data1=data.loc[:,['comments']]"
   ]
  },
  {
   "cell_type": "code",
   "execution_count": 342,
   "id": "ea32efde",
   "metadata": {},
   "outputs": [
    {
     "data": {
      "text/html": [
       "<div>\n",
       "<style scoped>\n",
       "    .dataframe tbody tr th:only-of-type {\n",
       "        vertical-align: middle;\n",
       "    }\n",
       "\n",
       "    .dataframe tbody tr th {\n",
       "        vertical-align: top;\n",
       "    }\n",
       "\n",
       "    .dataframe thead th {\n",
       "        text-align: right;\n",
       "    }\n",
       "</style>\n",
       "<table border=\"1\" class=\"dataframe\">\n",
       "  <thead>\n",
       "    <tr style=\"text-align: right;\">\n",
       "      <th></th>\n",
       "      <th>comments</th>\n",
       "    </tr>\n",
       "  </thead>\n",
       "  <tbody>\n",
       "    <tr>\n",
       "      <th>0</th>\n",
       "      <td>iPhone11 Review A person who uses every major ...</td>\n",
       "    </tr>\n",
       "    <tr>\n",
       "      <th>1</th>\n",
       "      <td>Battery lifePhone performanceCalling feature/q...</td>\n",
       "    </tr>\n",
       "    <tr>\n",
       "      <th>2</th>\n",
       "      <td>Been almost 10 months I have been using the iP...</td>\n",
       "    </tr>\n",
       "    <tr>\n",
       "      <th>3</th>\n",
       "      <td>This is my first iPhone. After being an Androi...</td>\n",
       "    </tr>\n",
       "    <tr>\n",
       "      <th>4</th>\n",
       "      <td>good product</td>\n",
       "    </tr>\n",
       "    <tr>\n",
       "      <th>...</th>\n",
       "      <td>...</td>\n",
       "    </tr>\n",
       "    <tr>\n",
       "      <th>3721</th>\n",
       "      <td>As expected !</td>\n",
       "    </tr>\n",
       "    <tr>\n",
       "      <th>3722</th>\n",
       "      <td>Awsome i loved it, liked soo much</td>\n",
       "    </tr>\n",
       "    <tr>\n",
       "      <th>3723</th>\n",
       "      <td>Very good quality love it iphone 11</td>\n",
       "    </tr>\n",
       "    <tr>\n",
       "      <th>3724</th>\n",
       "      <td>Awesome phone</td>\n",
       "    </tr>\n",
       "    <tr>\n",
       "      <th>3725</th>\n",
       "      <td>very good</td>\n",
       "    </tr>\n",
       "  </tbody>\n",
       "</table>\n",
       "<p>3726 rows × 1 columns</p>\n",
       "</div>"
      ],
      "text/plain": [
       "                                               comments\n",
       "0     iPhone11 Review A person who uses every major ...\n",
       "1     Battery lifePhone performanceCalling feature/q...\n",
       "2     Been almost 10 months I have been using the iP...\n",
       "3     This is my first iPhone. After being an Androi...\n",
       "4                                          good product\n",
       "...                                                 ...\n",
       "3721                                      As expected !\n",
       "3722                  Awsome i loved it, liked soo much\n",
       "3723                Very good quality love it iphone 11\n",
       "3724                                      Awesome phone\n",
       "3725                                          very good\n",
       "\n",
       "[3726 rows x 1 columns]"
      ]
     },
     "execution_count": 342,
     "metadata": {},
     "output_type": "execute_result"
    }
   ],
   "source": [
    "data1"
   ]
  },
  {
   "cell_type": "code",
   "execution_count": 343,
   "id": "5eae0c40",
   "metadata": {},
   "outputs": [],
   "source": [
    "# as you can there are still number there\n",
    "import re"
   ]
  },
  {
   "cell_type": "code",
   "execution_count": 344,
   "id": "b6885ab2",
   "metadata": {},
   "outputs": [],
   "source": [
    "def remove_pattern(text,pattern):\n",
    "    x=re.findall(pattern,str(text))\n",
    "    for i in x:\n",
    "        text=re.sub(i,'',str(text))\n",
    "    return text"
   ]
  },
  {
   "cell_type": "code",
   "execution_count": 345,
   "id": "2c97727e",
   "metadata": {},
   "outputs": [
    {
     "data": {
      "text/html": [
       "<div>\n",
       "<style scoped>\n",
       "    .dataframe tbody tr th:only-of-type {\n",
       "        vertical-align: middle;\n",
       "    }\n",
       "\n",
       "    .dataframe tbody tr th {\n",
       "        vertical-align: top;\n",
       "    }\n",
       "\n",
       "    .dataframe thead th {\n",
       "        text-align: right;\n",
       "    }\n",
       "</style>\n",
       "<table border=\"1\" class=\"dataframe\">\n",
       "  <thead>\n",
       "    <tr style=\"text-align: right;\">\n",
       "      <th></th>\n",
       "      <th>comments</th>\n",
       "      <th>cleaned</th>\n",
       "    </tr>\n",
       "  </thead>\n",
       "  <tbody>\n",
       "    <tr>\n",
       "      <th>0</th>\n",
       "      <td>iPhone11 Review A person who uses every major ...</td>\n",
       "      <td>iPhone Review A person who uses every major ap...</td>\n",
       "    </tr>\n",
       "    <tr>\n",
       "      <th>1</th>\n",
       "      <td>Battery lifePhone performanceCalling feature/q...</td>\n",
       "      <td>Battery lifePhone performanceCalling feature/q...</td>\n",
       "    </tr>\n",
       "    <tr>\n",
       "      <th>2</th>\n",
       "      <td>Been almost 10 months I have been using the iP...</td>\n",
       "      <td>Been almost  months I have been using the iPho...</td>\n",
       "    </tr>\n",
       "    <tr>\n",
       "      <th>3</th>\n",
       "      <td>This is my first iPhone. After being an Androi...</td>\n",
       "      <td>This is my first iPhone. After being an Androi...</td>\n",
       "    </tr>\n",
       "    <tr>\n",
       "      <th>4</th>\n",
       "      <td>good product</td>\n",
       "      <td>good product</td>\n",
       "    </tr>\n",
       "    <tr>\n",
       "      <th>...</th>\n",
       "      <td>...</td>\n",
       "      <td>...</td>\n",
       "    </tr>\n",
       "    <tr>\n",
       "      <th>3721</th>\n",
       "      <td>As expected !</td>\n",
       "      <td>As expected !</td>\n",
       "    </tr>\n",
       "    <tr>\n",
       "      <th>3722</th>\n",
       "      <td>Awsome i loved it, liked soo much</td>\n",
       "      <td>Awsome i loved it, liked soo much</td>\n",
       "    </tr>\n",
       "    <tr>\n",
       "      <th>3723</th>\n",
       "      <td>Very good quality love it iphone 11</td>\n",
       "      <td>Very good quality love it iphone</td>\n",
       "    </tr>\n",
       "    <tr>\n",
       "      <th>3724</th>\n",
       "      <td>Awesome phone</td>\n",
       "      <td>Awesome phone</td>\n",
       "    </tr>\n",
       "    <tr>\n",
       "      <th>3725</th>\n",
       "      <td>very good</td>\n",
       "      <td>very good</td>\n",
       "    </tr>\n",
       "  </tbody>\n",
       "</table>\n",
       "<p>3726 rows × 2 columns</p>\n",
       "</div>"
      ],
      "text/plain": [
       "                                               comments  \\\n",
       "0     iPhone11 Review A person who uses every major ...   \n",
       "1     Battery lifePhone performanceCalling feature/q...   \n",
       "2     Been almost 10 months I have been using the iP...   \n",
       "3     This is my first iPhone. After being an Androi...   \n",
       "4                                          good product   \n",
       "...                                                 ...   \n",
       "3721                                      As expected !   \n",
       "3722                  Awsome i loved it, liked soo much   \n",
       "3723                Very good quality love it iphone 11   \n",
       "3724                                      Awesome phone   \n",
       "3725                                          very good   \n",
       "\n",
       "                                                cleaned  \n",
       "0     iPhone Review A person who uses every major ap...  \n",
       "1     Battery lifePhone performanceCalling feature/q...  \n",
       "2     Been almost  months I have been using the iPho...  \n",
       "3     This is my first iPhone. After being an Androi...  \n",
       "4                                          good product  \n",
       "...                                                 ...  \n",
       "3721                                      As expected !  \n",
       "3722                  Awsome i loved it, liked soo much  \n",
       "3723                  Very good quality love it iphone   \n",
       "3724                                      Awesome phone  \n",
       "3725                                          very good  \n",
       "\n",
       "[3726 rows x 2 columns]"
      ]
     },
     "execution_count": 345,
     "metadata": {},
     "output_type": "execute_result"
    }
   ],
   "source": [
    "data1['cleaned']=data1['comments'].apply(lambda x: remove_pattern(x,'[0-9]*'))\n",
    "data1"
   ]
  },
  {
   "cell_type": "code",
   "execution_count": 346,
   "id": "5fe38649",
   "metadata": {},
   "outputs": [],
   "source": [
    "from string import punctuation\n",
    "from nltk.corpus import stopwords"
   ]
  },
  {
   "cell_type": "code",
   "execution_count": 347,
   "id": "0bd40a41",
   "metadata": {},
   "outputs": [
    {
     "data": {
      "text/plain": [
       "'!\"#$%&\\'()*+,-./:;<=>?@[\\\\]^_`{|}~'"
      ]
     },
     "execution_count": 347,
     "metadata": {},
     "output_type": "execute_result"
    }
   ],
   "source": [
    "stop_words=list(stopwords.words('english'))\n",
    "punctuation"
   ]
  },
  {
   "cell_type": "code",
   "execution_count": 348,
   "id": "fac7f272",
   "metadata": {},
   "outputs": [],
   "source": [
    "from nltk import word_tokenize"
   ]
  },
  {
   "cell_type": "code",
   "execution_count": 349,
   "id": "eeb40063",
   "metadata": {},
   "outputs": [
    {
     "data": {
      "text/html": [
       "<div>\n",
       "<style scoped>\n",
       "    .dataframe tbody tr th:only-of-type {\n",
       "        vertical-align: middle;\n",
       "    }\n",
       "\n",
       "    .dataframe tbody tr th {\n",
       "        vertical-align: top;\n",
       "    }\n",
       "\n",
       "    .dataframe thead th {\n",
       "        text-align: right;\n",
       "    }\n",
       "</style>\n",
       "<table border=\"1\" class=\"dataframe\">\n",
       "  <thead>\n",
       "    <tr style=\"text-align: right;\">\n",
       "      <th></th>\n",
       "      <th>comments</th>\n",
       "      <th>cleaned</th>\n",
       "      <th>tokenized</th>\n",
       "    </tr>\n",
       "  </thead>\n",
       "  <tbody>\n",
       "    <tr>\n",
       "      <th>0</th>\n",
       "      <td>iPhone11 Review A person who uses every major ...</td>\n",
       "      <td>iPhone Review A person who uses every major ap...</td>\n",
       "      <td>[iPhone, Review, A, person, who, uses, every, ...</td>\n",
       "    </tr>\n",
       "    <tr>\n",
       "      <th>1</th>\n",
       "      <td>Battery lifePhone performanceCalling feature/q...</td>\n",
       "      <td>Battery lifePhone performanceCalling feature/q...</td>\n",
       "      <td>[Battery, lifePhone, performanceCalling, featu...</td>\n",
       "    </tr>\n",
       "    <tr>\n",
       "      <th>2</th>\n",
       "      <td>Been almost 10 months I have been using the iP...</td>\n",
       "      <td>Been almost  months I have been using the iPho...</td>\n",
       "      <td>[Been, almost, months, I, have, been, using, t...</td>\n",
       "    </tr>\n",
       "    <tr>\n",
       "      <th>3</th>\n",
       "      <td>This is my first iPhone. After being an Androi...</td>\n",
       "      <td>This is my first iPhone. After being an Androi...</td>\n",
       "      <td>[This, is, my, first, iPhone, ., After, being,...</td>\n",
       "    </tr>\n",
       "    <tr>\n",
       "      <th>4</th>\n",
       "      <td>good product</td>\n",
       "      <td>good product</td>\n",
       "      <td>[good, product]</td>\n",
       "    </tr>\n",
       "    <tr>\n",
       "      <th>...</th>\n",
       "      <td>...</td>\n",
       "      <td>...</td>\n",
       "      <td>...</td>\n",
       "    </tr>\n",
       "    <tr>\n",
       "      <th>3721</th>\n",
       "      <td>As expected !</td>\n",
       "      <td>As expected !</td>\n",
       "      <td>[As, expected, !]</td>\n",
       "    </tr>\n",
       "    <tr>\n",
       "      <th>3722</th>\n",
       "      <td>Awsome i loved it, liked soo much</td>\n",
       "      <td>Awsome i loved it, liked soo much</td>\n",
       "      <td>[Awsome, i, loved, it, ,, liked, soo, much]</td>\n",
       "    </tr>\n",
       "    <tr>\n",
       "      <th>3723</th>\n",
       "      <td>Very good quality love it iphone 11</td>\n",
       "      <td>Very good quality love it iphone</td>\n",
       "      <td>[Very, good, quality, love, it, iphone]</td>\n",
       "    </tr>\n",
       "    <tr>\n",
       "      <th>3724</th>\n",
       "      <td>Awesome phone</td>\n",
       "      <td>Awesome phone</td>\n",
       "      <td>[Awesome, phone]</td>\n",
       "    </tr>\n",
       "    <tr>\n",
       "      <th>3725</th>\n",
       "      <td>very good</td>\n",
       "      <td>very good</td>\n",
       "      <td>[very, good]</td>\n",
       "    </tr>\n",
       "  </tbody>\n",
       "</table>\n",
       "<p>3726 rows × 3 columns</p>\n",
       "</div>"
      ],
      "text/plain": [
       "                                               comments  \\\n",
       "0     iPhone11 Review A person who uses every major ...   \n",
       "1     Battery lifePhone performanceCalling feature/q...   \n",
       "2     Been almost 10 months I have been using the iP...   \n",
       "3     This is my first iPhone. After being an Androi...   \n",
       "4                                          good product   \n",
       "...                                                 ...   \n",
       "3721                                      As expected !   \n",
       "3722                  Awsome i loved it, liked soo much   \n",
       "3723                Very good quality love it iphone 11   \n",
       "3724                                      Awesome phone   \n",
       "3725                                          very good   \n",
       "\n",
       "                                                cleaned  \\\n",
       "0     iPhone Review A person who uses every major ap...   \n",
       "1     Battery lifePhone performanceCalling feature/q...   \n",
       "2     Been almost  months I have been using the iPho...   \n",
       "3     This is my first iPhone. After being an Androi...   \n",
       "4                                          good product   \n",
       "...                                                 ...   \n",
       "3721                                      As expected !   \n",
       "3722                  Awsome i loved it, liked soo much   \n",
       "3723                  Very good quality love it iphone    \n",
       "3724                                      Awesome phone   \n",
       "3725                                          very good   \n",
       "\n",
       "                                              tokenized  \n",
       "0     [iPhone, Review, A, person, who, uses, every, ...  \n",
       "1     [Battery, lifePhone, performanceCalling, featu...  \n",
       "2     [Been, almost, months, I, have, been, using, t...  \n",
       "3     [This, is, my, first, iPhone, ., After, being,...  \n",
       "4                                       [good, product]  \n",
       "...                                                 ...  \n",
       "3721                                  [As, expected, !]  \n",
       "3722        [Awsome, i, loved, it, ,, liked, soo, much]  \n",
       "3723            [Very, good, quality, love, it, iphone]  \n",
       "3724                                   [Awesome, phone]  \n",
       "3725                                       [very, good]  \n",
       "\n",
       "[3726 rows x 3 columns]"
      ]
     },
     "execution_count": 349,
     "metadata": {},
     "output_type": "execute_result"
    }
   ],
   "source": [
    "data1['tokenized']=[word_tokenize(x) for x in data1['cleaned']]\n",
    "data1"
   ]
  },
  {
   "cell_type": "code",
   "execution_count": 350,
   "id": "8b908d16",
   "metadata": {},
   "outputs": [],
   "source": [
    "data1['tokenized']=data1['tokenized'].apply(lambda x: [word for word in x if word not in stop_words])"
   ]
  },
  {
   "cell_type": "code",
   "execution_count": 351,
   "id": "07727911",
   "metadata": {},
   "outputs": [
    {
     "data": {
      "text/html": [
       "<div>\n",
       "<style scoped>\n",
       "    .dataframe tbody tr th:only-of-type {\n",
       "        vertical-align: middle;\n",
       "    }\n",
       "\n",
       "    .dataframe tbody tr th {\n",
       "        vertical-align: top;\n",
       "    }\n",
       "\n",
       "    .dataframe thead th {\n",
       "        text-align: right;\n",
       "    }\n",
       "</style>\n",
       "<table border=\"1\" class=\"dataframe\">\n",
       "  <thead>\n",
       "    <tr style=\"text-align: right;\">\n",
       "      <th></th>\n",
       "      <th>comments</th>\n",
       "      <th>cleaned</th>\n",
       "      <th>tokenized</th>\n",
       "    </tr>\n",
       "  </thead>\n",
       "  <tbody>\n",
       "    <tr>\n",
       "      <th>0</th>\n",
       "      <td>iPhone11 Review A person who uses every major ...</td>\n",
       "      <td>iPhone Review A person who uses every major ap...</td>\n",
       "      <td>[iPhone, Review, A, person, uses, every, major...</td>\n",
       "    </tr>\n",
       "    <tr>\n",
       "      <th>1</th>\n",
       "      <td>Battery lifePhone performanceCalling feature/q...</td>\n",
       "      <td>Battery lifePhone performanceCalling feature/q...</td>\n",
       "      <td>[Battery, lifePhone, performanceCalling, featu...</td>\n",
       "    </tr>\n",
       "    <tr>\n",
       "      <th>2</th>\n",
       "      <td>Been almost 10 months I have been using the iP...</td>\n",
       "      <td>Been almost  months I have been using the iPho...</td>\n",
       "      <td>[Been, almost, months, I, using, iPhone, GB, ....</td>\n",
       "    </tr>\n",
       "    <tr>\n",
       "      <th>3</th>\n",
       "      <td>This is my first iPhone. After being an Androi...</td>\n",
       "      <td>This is my first iPhone. After being an Androi...</td>\n",
       "      <td>[This, first, iPhone, ., After, Android, enthu...</td>\n",
       "    </tr>\n",
       "    <tr>\n",
       "      <th>4</th>\n",
       "      <td>good product</td>\n",
       "      <td>good product</td>\n",
       "      <td>[good, product]</td>\n",
       "    </tr>\n",
       "  </tbody>\n",
       "</table>\n",
       "</div>"
      ],
      "text/plain": [
       "                                            comments  \\\n",
       "0  iPhone11 Review A person who uses every major ...   \n",
       "1  Battery lifePhone performanceCalling feature/q...   \n",
       "2  Been almost 10 months I have been using the iP...   \n",
       "3  This is my first iPhone. After being an Androi...   \n",
       "4                                       good product   \n",
       "\n",
       "                                             cleaned  \\\n",
       "0  iPhone Review A person who uses every major ap...   \n",
       "1  Battery lifePhone performanceCalling feature/q...   \n",
       "2  Been almost  months I have been using the iPho...   \n",
       "3  This is my first iPhone. After being an Androi...   \n",
       "4                                       good product   \n",
       "\n",
       "                                           tokenized  \n",
       "0  [iPhone, Review, A, person, uses, every, major...  \n",
       "1  [Battery, lifePhone, performanceCalling, featu...  \n",
       "2  [Been, almost, months, I, using, iPhone, GB, ....  \n",
       "3  [This, first, iPhone, ., After, Android, enthu...  \n",
       "4                                    [good, product]  "
      ]
     },
     "execution_count": 351,
     "metadata": {},
     "output_type": "execute_result"
    }
   ],
   "source": [
    "data1.head()"
   ]
  },
  {
   "cell_type": "code",
   "execution_count": 352,
   "id": "e5fd7afb",
   "metadata": {},
   "outputs": [
    {
     "data": {
      "text/html": [
       "<div>\n",
       "<style scoped>\n",
       "    .dataframe tbody tr th:only-of-type {\n",
       "        vertical-align: middle;\n",
       "    }\n",
       "\n",
       "    .dataframe tbody tr th {\n",
       "        vertical-align: top;\n",
       "    }\n",
       "\n",
       "    .dataframe thead th {\n",
       "        text-align: right;\n",
       "    }\n",
       "</style>\n",
       "<table border=\"1\" class=\"dataframe\">\n",
       "  <thead>\n",
       "    <tr style=\"text-align: right;\">\n",
       "      <th></th>\n",
       "      <th>comments</th>\n",
       "      <th>cleaned</th>\n",
       "      <th>tokenized</th>\n",
       "    </tr>\n",
       "  </thead>\n",
       "  <tbody>\n",
       "    <tr>\n",
       "      <th>0</th>\n",
       "      <td>iPhone11 Review A person who uses every major ...</td>\n",
       "      <td>iPhone Review A person who uses every major ap...</td>\n",
       "      <td>[iPhone, Review, A, person, uses, every, major...</td>\n",
       "    </tr>\n",
       "    <tr>\n",
       "      <th>1</th>\n",
       "      <td>Battery lifePhone performanceCalling feature/q...</td>\n",
       "      <td>Battery lifePhone performanceCalling feature/q...</td>\n",
       "      <td>[Battery, lifePhone, performanceCalling, featu...</td>\n",
       "    </tr>\n",
       "    <tr>\n",
       "      <th>2</th>\n",
       "      <td>Been almost 10 months I have been using the iP...</td>\n",
       "      <td>Been almost  months I have been using the iPho...</td>\n",
       "      <td>[Been, almost, months, I, using, iPhone, GB, ....</td>\n",
       "    </tr>\n",
       "    <tr>\n",
       "      <th>3</th>\n",
       "      <td>This is my first iPhone. After being an Androi...</td>\n",
       "      <td>This is my first iPhone. After being an Androi...</td>\n",
       "      <td>[This, first, iPhone, ., After, Android, enthu...</td>\n",
       "    </tr>\n",
       "    <tr>\n",
       "      <th>4</th>\n",
       "      <td>good product</td>\n",
       "      <td>good product</td>\n",
       "      <td>[good, product]</td>\n",
       "    </tr>\n",
       "    <tr>\n",
       "      <th>...</th>\n",
       "      <td>...</td>\n",
       "      <td>...</td>\n",
       "      <td>...</td>\n",
       "    </tr>\n",
       "    <tr>\n",
       "      <th>3721</th>\n",
       "      <td>As expected !</td>\n",
       "      <td>As expected !</td>\n",
       "      <td>[As, expected, !]</td>\n",
       "    </tr>\n",
       "    <tr>\n",
       "      <th>3722</th>\n",
       "      <td>Awsome i loved it, liked soo much</td>\n",
       "      <td>Awsome i loved it, liked soo much</td>\n",
       "      <td>[Awsome, loved, ,, liked, soo, much]</td>\n",
       "    </tr>\n",
       "    <tr>\n",
       "      <th>3723</th>\n",
       "      <td>Very good quality love it iphone 11</td>\n",
       "      <td>Very good quality love it iphone</td>\n",
       "      <td>[Very, good, quality, love, iphone]</td>\n",
       "    </tr>\n",
       "    <tr>\n",
       "      <th>3724</th>\n",
       "      <td>Awesome phone</td>\n",
       "      <td>Awesome phone</td>\n",
       "      <td>[Awesome, phone]</td>\n",
       "    </tr>\n",
       "    <tr>\n",
       "      <th>3725</th>\n",
       "      <td>very good</td>\n",
       "      <td>very good</td>\n",
       "      <td>[good]</td>\n",
       "    </tr>\n",
       "  </tbody>\n",
       "</table>\n",
       "<p>3726 rows × 3 columns</p>\n",
       "</div>"
      ],
      "text/plain": [
       "                                               comments  \\\n",
       "0     iPhone11 Review A person who uses every major ...   \n",
       "1     Battery lifePhone performanceCalling feature/q...   \n",
       "2     Been almost 10 months I have been using the iP...   \n",
       "3     This is my first iPhone. After being an Androi...   \n",
       "4                                          good product   \n",
       "...                                                 ...   \n",
       "3721                                      As expected !   \n",
       "3722                  Awsome i loved it, liked soo much   \n",
       "3723                Very good quality love it iphone 11   \n",
       "3724                                      Awesome phone   \n",
       "3725                                          very good   \n",
       "\n",
       "                                                cleaned  \\\n",
       "0     iPhone Review A person who uses every major ap...   \n",
       "1     Battery lifePhone performanceCalling feature/q...   \n",
       "2     Been almost  months I have been using the iPho...   \n",
       "3     This is my first iPhone. After being an Androi...   \n",
       "4                                          good product   \n",
       "...                                                 ...   \n",
       "3721                                      As expected !   \n",
       "3722                  Awsome i loved it, liked soo much   \n",
       "3723                  Very good quality love it iphone    \n",
       "3724                                      Awesome phone   \n",
       "3725                                          very good   \n",
       "\n",
       "                                              tokenized  \n",
       "0     [iPhone, Review, A, person, uses, every, major...  \n",
       "1     [Battery, lifePhone, performanceCalling, featu...  \n",
       "2     [Been, almost, months, I, using, iPhone, GB, ....  \n",
       "3     [This, first, iPhone, ., After, Android, enthu...  \n",
       "4                                       [good, product]  \n",
       "...                                                 ...  \n",
       "3721                                  [As, expected, !]  \n",
       "3722               [Awsome, loved, ,, liked, soo, much]  \n",
       "3723                [Very, good, quality, love, iphone]  \n",
       "3724                                   [Awesome, phone]  \n",
       "3725                                             [good]  \n",
       "\n",
       "[3726 rows x 3 columns]"
      ]
     },
     "execution_count": 352,
     "metadata": {},
     "output_type": "execute_result"
    }
   ],
   "source": [
    "data1"
   ]
  },
  {
   "cell_type": "code",
   "execution_count": 353,
   "id": "6cca667d",
   "metadata": {},
   "outputs": [],
   "source": [
    "from nltk import PorterStemmer"
   ]
  },
  {
   "cell_type": "code",
   "execution_count": 354,
   "id": "e04d44b3",
   "metadata": {},
   "outputs": [],
   "source": [
    "stemm=PorterStemmer()"
   ]
  },
  {
   "cell_type": "code",
   "execution_count": 355,
   "id": "4bdd9d16",
   "metadata": {},
   "outputs": [],
   "source": [
    "data1['tokenized']=data1['tokenized'].apply(lambda x:[stemm.stem(i) for i in x])"
   ]
  },
  {
   "cell_type": "code",
   "execution_count": 356,
   "id": "c64e2fb1",
   "metadata": {},
   "outputs": [
    {
     "data": {
      "text/html": [
       "<div>\n",
       "<style scoped>\n",
       "    .dataframe tbody tr th:only-of-type {\n",
       "        vertical-align: middle;\n",
       "    }\n",
       "\n",
       "    .dataframe tbody tr th {\n",
       "        vertical-align: top;\n",
       "    }\n",
       "\n",
       "    .dataframe thead th {\n",
       "        text-align: right;\n",
       "    }\n",
       "</style>\n",
       "<table border=\"1\" class=\"dataframe\">\n",
       "  <thead>\n",
       "    <tr style=\"text-align: right;\">\n",
       "      <th></th>\n",
       "      <th>comments</th>\n",
       "      <th>cleaned</th>\n",
       "      <th>tokenized</th>\n",
       "    </tr>\n",
       "  </thead>\n",
       "  <tbody>\n",
       "    <tr>\n",
       "      <th>0</th>\n",
       "      <td>iPhone11 Review A person who uses every major ...</td>\n",
       "      <td>iPhone Review A person who uses every major ap...</td>\n",
       "      <td>[iphon, review, a, person, use, everi, major, ...</td>\n",
       "    </tr>\n",
       "    <tr>\n",
       "      <th>1</th>\n",
       "      <td>Battery lifePhone performanceCalling feature/q...</td>\n",
       "      <td>Battery lifePhone performanceCalling feature/q...</td>\n",
       "      <td>[batteri, lifephon, performancecal, feature/qu...</td>\n",
       "    </tr>\n",
       "    <tr>\n",
       "      <th>2</th>\n",
       "      <td>Been almost 10 months I have been using the iP...</td>\n",
       "      <td>Been almost  months I have been using the iPho...</td>\n",
       "      <td>[been, almost, month, i, use, iphon, gb, ., ap...</td>\n",
       "    </tr>\n",
       "    <tr>\n",
       "      <th>3</th>\n",
       "      <td>This is my first iPhone. After being an Androi...</td>\n",
       "      <td>This is my first iPhone. After being an Androi...</td>\n",
       "      <td>[thi, first, iphon, ., after, android, enthusi...</td>\n",
       "    </tr>\n",
       "    <tr>\n",
       "      <th>4</th>\n",
       "      <td>good product</td>\n",
       "      <td>good product</td>\n",
       "      <td>[good, product]</td>\n",
       "    </tr>\n",
       "  </tbody>\n",
       "</table>\n",
       "</div>"
      ],
      "text/plain": [
       "                                            comments  \\\n",
       "0  iPhone11 Review A person who uses every major ...   \n",
       "1  Battery lifePhone performanceCalling feature/q...   \n",
       "2  Been almost 10 months I have been using the iP...   \n",
       "3  This is my first iPhone. After being an Androi...   \n",
       "4                                       good product   \n",
       "\n",
       "                                             cleaned  \\\n",
       "0  iPhone Review A person who uses every major ap...   \n",
       "1  Battery lifePhone performanceCalling feature/q...   \n",
       "2  Been almost  months I have been using the iPho...   \n",
       "3  This is my first iPhone. After being an Androi...   \n",
       "4                                       good product   \n",
       "\n",
       "                                           tokenized  \n",
       "0  [iphon, review, a, person, use, everi, major, ...  \n",
       "1  [batteri, lifephon, performancecal, feature/qu...  \n",
       "2  [been, almost, month, i, use, iphon, gb, ., ap...  \n",
       "3  [thi, first, iphon, ., after, android, enthusi...  \n",
       "4                                    [good, product]  "
      ]
     },
     "execution_count": 356,
     "metadata": {},
     "output_type": "execute_result"
    }
   ],
   "source": [
    "data1.head()"
   ]
  },
  {
   "cell_type": "code",
   "execution_count": 357,
   "id": "8dff8d0d",
   "metadata": {},
   "outputs": [],
   "source": [
    "data1['tokenized']=data1['tokenized'].apply(lambda x:' '.join(x))"
   ]
  },
  {
   "cell_type": "code",
   "execution_count": 358,
   "id": "72707884",
   "metadata": {},
   "outputs": [
    {
     "data": {
      "text/html": [
       "<div>\n",
       "<style scoped>\n",
       "    .dataframe tbody tr th:only-of-type {\n",
       "        vertical-align: middle;\n",
       "    }\n",
       "\n",
       "    .dataframe tbody tr th {\n",
       "        vertical-align: top;\n",
       "    }\n",
       "\n",
       "    .dataframe thead th {\n",
       "        text-align: right;\n",
       "    }\n",
       "</style>\n",
       "<table border=\"1\" class=\"dataframe\">\n",
       "  <thead>\n",
       "    <tr style=\"text-align: right;\">\n",
       "      <th></th>\n",
       "      <th>comments</th>\n",
       "      <th>cleaned</th>\n",
       "      <th>tokenized</th>\n",
       "    </tr>\n",
       "  </thead>\n",
       "  <tbody>\n",
       "    <tr>\n",
       "      <th>0</th>\n",
       "      <td>iPhone11 Review A person who uses every major ...</td>\n",
       "      <td>iPhone Review A person who uses every major ap...</td>\n",
       "      <td>iphon review a person use everi major applic p...</td>\n",
       "    </tr>\n",
       "    <tr>\n",
       "      <th>1</th>\n",
       "      <td>Battery lifePhone performanceCalling feature/q...</td>\n",
       "      <td>Battery lifePhone performanceCalling feature/q...</td>\n",
       "      <td>batteri lifephon performancecal feature/qu suberb</td>\n",
       "    </tr>\n",
       "    <tr>\n",
       "      <th>2</th>\n",
       "      <td>Been almost 10 months I have been using the iP...</td>\n",
       "      <td>Been almost  months I have been using the iPho...</td>\n",
       "      <td>been almost month i use iphon gb . appl known ...</td>\n",
       "    </tr>\n",
       "    <tr>\n",
       "      <th>3</th>\n",
       "      <td>This is my first iPhone. After being an Androi...</td>\n",
       "      <td>This is my first iPhone. After being an Androi...</td>\n",
       "      <td>thi first iphon . after android enthusiast loy...</td>\n",
       "    </tr>\n",
       "    <tr>\n",
       "      <th>4</th>\n",
       "      <td>good product</td>\n",
       "      <td>good product</td>\n",
       "      <td>good product</td>\n",
       "    </tr>\n",
       "    <tr>\n",
       "      <th>...</th>\n",
       "      <td>...</td>\n",
       "      <td>...</td>\n",
       "      <td>...</td>\n",
       "    </tr>\n",
       "    <tr>\n",
       "      <th>3721</th>\n",
       "      <td>As expected !</td>\n",
       "      <td>As expected !</td>\n",
       "      <td>as expect !</td>\n",
       "    </tr>\n",
       "    <tr>\n",
       "      <th>3722</th>\n",
       "      <td>Awsome i loved it, liked soo much</td>\n",
       "      <td>Awsome i loved it, liked soo much</td>\n",
       "      <td>awsom love , like soo much</td>\n",
       "    </tr>\n",
       "    <tr>\n",
       "      <th>3723</th>\n",
       "      <td>Very good quality love it iphone 11</td>\n",
       "      <td>Very good quality love it iphone</td>\n",
       "      <td>veri good qualiti love iphon</td>\n",
       "    </tr>\n",
       "    <tr>\n",
       "      <th>3724</th>\n",
       "      <td>Awesome phone</td>\n",
       "      <td>Awesome phone</td>\n",
       "      <td>awesom phone</td>\n",
       "    </tr>\n",
       "    <tr>\n",
       "      <th>3725</th>\n",
       "      <td>very good</td>\n",
       "      <td>very good</td>\n",
       "      <td>good</td>\n",
       "    </tr>\n",
       "  </tbody>\n",
       "</table>\n",
       "<p>3726 rows × 3 columns</p>\n",
       "</div>"
      ],
      "text/plain": [
       "                                               comments  \\\n",
       "0     iPhone11 Review A person who uses every major ...   \n",
       "1     Battery lifePhone performanceCalling feature/q...   \n",
       "2     Been almost 10 months I have been using the iP...   \n",
       "3     This is my first iPhone. After being an Androi...   \n",
       "4                                          good product   \n",
       "...                                                 ...   \n",
       "3721                                      As expected !   \n",
       "3722                  Awsome i loved it, liked soo much   \n",
       "3723                Very good quality love it iphone 11   \n",
       "3724                                      Awesome phone   \n",
       "3725                                          very good   \n",
       "\n",
       "                                                cleaned  \\\n",
       "0     iPhone Review A person who uses every major ap...   \n",
       "1     Battery lifePhone performanceCalling feature/q...   \n",
       "2     Been almost  months I have been using the iPho...   \n",
       "3     This is my first iPhone. After being an Androi...   \n",
       "4                                          good product   \n",
       "...                                                 ...   \n",
       "3721                                      As expected !   \n",
       "3722                  Awsome i loved it, liked soo much   \n",
       "3723                  Very good quality love it iphone    \n",
       "3724                                      Awesome phone   \n",
       "3725                                          very good   \n",
       "\n",
       "                                              tokenized  \n",
       "0     iphon review a person use everi major applic p...  \n",
       "1     batteri lifephon performancecal feature/qu suberb  \n",
       "2     been almost month i use iphon gb . appl known ...  \n",
       "3     thi first iphon . after android enthusiast loy...  \n",
       "4                                          good product  \n",
       "...                                                 ...  \n",
       "3721                                        as expect !  \n",
       "3722                         awsom love , like soo much  \n",
       "3723                       veri good qualiti love iphon  \n",
       "3724                                       awesom phone  \n",
       "3725                                               good  \n",
       "\n",
       "[3726 rows x 3 columns]"
      ]
     },
     "execution_count": 358,
     "metadata": {},
     "output_type": "execute_result"
    }
   ],
   "source": [
    "data1"
   ]
  },
  {
   "cell_type": "code",
   "execution_count": 359,
   "id": "2ce3d872",
   "metadata": {},
   "outputs": [],
   "source": [
    "data2=data1.loc[:,['tokenized']]"
   ]
  },
  {
   "cell_type": "code",
   "execution_count": 360,
   "id": "40ce4254",
   "metadata": {},
   "outputs": [
    {
     "data": {
      "text/html": [
       "<div>\n",
       "<style scoped>\n",
       "    .dataframe tbody tr th:only-of-type {\n",
       "        vertical-align: middle;\n",
       "    }\n",
       "\n",
       "    .dataframe tbody tr th {\n",
       "        vertical-align: top;\n",
       "    }\n",
       "\n",
       "    .dataframe thead th {\n",
       "        text-align: right;\n",
       "    }\n",
       "</style>\n",
       "<table border=\"1\" class=\"dataframe\">\n",
       "  <thead>\n",
       "    <tr style=\"text-align: right;\">\n",
       "      <th></th>\n",
       "      <th>tokenized</th>\n",
       "    </tr>\n",
       "  </thead>\n",
       "  <tbody>\n",
       "    <tr>\n",
       "      <th>0</th>\n",
       "      <td>iphon review a person use everi major applic p...</td>\n",
       "    </tr>\n",
       "    <tr>\n",
       "      <th>1</th>\n",
       "      <td>batteri lifephon performancecal feature/qu suberb</td>\n",
       "    </tr>\n",
       "    <tr>\n",
       "      <th>2</th>\n",
       "      <td>been almost month i use iphon gb . appl known ...</td>\n",
       "    </tr>\n",
       "    <tr>\n",
       "      <th>3</th>\n",
       "      <td>thi first iphon . after android enthusiast loy...</td>\n",
       "    </tr>\n",
       "    <tr>\n",
       "      <th>4</th>\n",
       "      <td>good product</td>\n",
       "    </tr>\n",
       "    <tr>\n",
       "      <th>...</th>\n",
       "      <td>...</td>\n",
       "    </tr>\n",
       "    <tr>\n",
       "      <th>3721</th>\n",
       "      <td>as expect !</td>\n",
       "    </tr>\n",
       "    <tr>\n",
       "      <th>3722</th>\n",
       "      <td>awsom love , like soo much</td>\n",
       "    </tr>\n",
       "    <tr>\n",
       "      <th>3723</th>\n",
       "      <td>veri good qualiti love iphon</td>\n",
       "    </tr>\n",
       "    <tr>\n",
       "      <th>3724</th>\n",
       "      <td>awesom phone</td>\n",
       "    </tr>\n",
       "    <tr>\n",
       "      <th>3725</th>\n",
       "      <td>good</td>\n",
       "    </tr>\n",
       "  </tbody>\n",
       "</table>\n",
       "<p>3726 rows × 1 columns</p>\n",
       "</div>"
      ],
      "text/plain": [
       "                                              tokenized\n",
       "0     iphon review a person use everi major applic p...\n",
       "1     batteri lifephon performancecal feature/qu suberb\n",
       "2     been almost month i use iphon gb . appl known ...\n",
       "3     thi first iphon . after android enthusiast loy...\n",
       "4                                          good product\n",
       "...                                                 ...\n",
       "3721                                        as expect !\n",
       "3722                         awsom love , like soo much\n",
       "3723                       veri good qualiti love iphon\n",
       "3724                                       awesom phone\n",
       "3725                                               good\n",
       "\n",
       "[3726 rows x 1 columns]"
      ]
     },
     "execution_count": 360,
     "metadata": {},
     "output_type": "execute_result"
    }
   ],
   "source": [
    "data2"
   ]
  },
  {
   "cell_type": "code",
   "execution_count": 361,
   "id": "14a107e3",
   "metadata": {},
   "outputs": [],
   "source": [
    "from vaderSentiment.vaderSentiment import SentimentIntensityAnalyzer"
   ]
  },
  {
   "cell_type": "code",
   "execution_count": 362,
   "id": "a3f12ee9",
   "metadata": {},
   "outputs": [],
   "source": [
    "analyser=SentimentIntensityAnalyzer()"
   ]
  },
  {
   "cell_type": "code",
   "execution_count": 363,
   "id": "e692c6ab",
   "metadata": {},
   "outputs": [],
   "source": [
    "def sentiment_score(text):\n",
    "    analyser=SentimentIntensityAnalyzer()\n",
    "    senti_dict=analyser.polarity_scores(text)\n",
    "    senti=[]\n",
    "    for i in senti_dict:\n",
    "        if senti_dict['compound']>0.5:\n",
    "            senti.append(1)\n",
    "        elif senti_dict['compound']<=-0.5:\n",
    "            senti.append(2)\n",
    "        else :\n",
    "            senti.append(0)\n",
    "    \n",
    "    return senti[0]"
   ]
  },
  {
   "cell_type": "code",
   "execution_count": 364,
   "id": "aeb08af6",
   "metadata": {},
   "outputs": [],
   "source": [
    "data3=data2"
   ]
  },
  {
   "cell_type": "code",
   "execution_count": 365,
   "id": "27f8a645",
   "metadata": {},
   "outputs": [
    {
     "data": {
      "text/html": [
       "<div>\n",
       "<style scoped>\n",
       "    .dataframe tbody tr th:only-of-type {\n",
       "        vertical-align: middle;\n",
       "    }\n",
       "\n",
       "    .dataframe tbody tr th {\n",
       "        vertical-align: top;\n",
       "    }\n",
       "\n",
       "    .dataframe thead th {\n",
       "        text-align: right;\n",
       "    }\n",
       "</style>\n",
       "<table border=\"1\" class=\"dataframe\">\n",
       "  <thead>\n",
       "    <tr style=\"text-align: right;\">\n",
       "      <th></th>\n",
       "      <th>tokenized</th>\n",
       "    </tr>\n",
       "  </thead>\n",
       "  <tbody>\n",
       "    <tr>\n",
       "      <th>0</th>\n",
       "      <td>iphon review a person use everi major applic p...</td>\n",
       "    </tr>\n",
       "    <tr>\n",
       "      <th>1</th>\n",
       "      <td>batteri lifephon performancecal feature/qu suberb</td>\n",
       "    </tr>\n",
       "    <tr>\n",
       "      <th>2</th>\n",
       "      <td>been almost month i use iphon gb . appl known ...</td>\n",
       "    </tr>\n",
       "    <tr>\n",
       "      <th>3</th>\n",
       "      <td>thi first iphon . after android enthusiast loy...</td>\n",
       "    </tr>\n",
       "    <tr>\n",
       "      <th>4</th>\n",
       "      <td>good product</td>\n",
       "    </tr>\n",
       "    <tr>\n",
       "      <th>...</th>\n",
       "      <td>...</td>\n",
       "    </tr>\n",
       "    <tr>\n",
       "      <th>3721</th>\n",
       "      <td>as expect !</td>\n",
       "    </tr>\n",
       "    <tr>\n",
       "      <th>3722</th>\n",
       "      <td>awsom love , like soo much</td>\n",
       "    </tr>\n",
       "    <tr>\n",
       "      <th>3723</th>\n",
       "      <td>veri good qualiti love iphon</td>\n",
       "    </tr>\n",
       "    <tr>\n",
       "      <th>3724</th>\n",
       "      <td>awesom phone</td>\n",
       "    </tr>\n",
       "    <tr>\n",
       "      <th>3725</th>\n",
       "      <td>good</td>\n",
       "    </tr>\n",
       "  </tbody>\n",
       "</table>\n",
       "<p>3726 rows × 1 columns</p>\n",
       "</div>"
      ],
      "text/plain": [
       "                                              tokenized\n",
       "0     iphon review a person use everi major applic p...\n",
       "1     batteri lifephon performancecal feature/qu suberb\n",
       "2     been almost month i use iphon gb . appl known ...\n",
       "3     thi first iphon . after android enthusiast loy...\n",
       "4                                          good product\n",
       "...                                                 ...\n",
       "3721                                        as expect !\n",
       "3722                         awsom love , like soo much\n",
       "3723                       veri good qualiti love iphon\n",
       "3724                                       awesom phone\n",
       "3725                                               good\n",
       "\n",
       "[3726 rows x 1 columns]"
      ]
     },
     "execution_count": 365,
     "metadata": {},
     "output_type": "execute_result"
    }
   ],
   "source": [
    "data3"
   ]
  },
  {
   "cell_type": "code",
   "execution_count": 366,
   "id": "9fb422d4",
   "metadata": {},
   "outputs": [],
   "source": [
    "data3['target']=data3['tokenized'].apply(lambda x: sentiment_score(x))"
   ]
  },
  {
   "cell_type": "code",
   "execution_count": 367,
   "id": "08ce69ca",
   "metadata": {},
   "outputs": [
    {
     "data": {
      "text/html": [
       "<div>\n",
       "<style scoped>\n",
       "    .dataframe tbody tr th:only-of-type {\n",
       "        vertical-align: middle;\n",
       "    }\n",
       "\n",
       "    .dataframe tbody tr th {\n",
       "        vertical-align: top;\n",
       "    }\n",
       "\n",
       "    .dataframe thead th {\n",
       "        text-align: right;\n",
       "    }\n",
       "</style>\n",
       "<table border=\"1\" class=\"dataframe\">\n",
       "  <thead>\n",
       "    <tr style=\"text-align: right;\">\n",
       "      <th></th>\n",
       "      <th>tokenized</th>\n",
       "      <th>target</th>\n",
       "    </tr>\n",
       "  </thead>\n",
       "  <tbody>\n",
       "    <tr>\n",
       "      <th>0</th>\n",
       "      <td>iphon review a person use everi major applic p...</td>\n",
       "      <td>1</td>\n",
       "    </tr>\n",
       "    <tr>\n",
       "      <th>1</th>\n",
       "      <td>batteri lifephon performancecal feature/qu suberb</td>\n",
       "      <td>0</td>\n",
       "    </tr>\n",
       "    <tr>\n",
       "      <th>2</th>\n",
       "      <td>been almost month i use iphon gb . appl known ...</td>\n",
       "      <td>1</td>\n",
       "    </tr>\n",
       "    <tr>\n",
       "      <th>3</th>\n",
       "      <td>thi first iphon . after android enthusiast loy...</td>\n",
       "      <td>1</td>\n",
       "    </tr>\n",
       "    <tr>\n",
       "      <th>4</th>\n",
       "      <td>good product</td>\n",
       "      <td>0</td>\n",
       "    </tr>\n",
       "    <tr>\n",
       "      <th>...</th>\n",
       "      <td>...</td>\n",
       "      <td>...</td>\n",
       "    </tr>\n",
       "    <tr>\n",
       "      <th>3721</th>\n",
       "      <td>as expect !</td>\n",
       "      <td>0</td>\n",
       "    </tr>\n",
       "    <tr>\n",
       "      <th>3722</th>\n",
       "      <td>awsom love , like soo much</td>\n",
       "      <td>1</td>\n",
       "    </tr>\n",
       "    <tr>\n",
       "      <th>3723</th>\n",
       "      <td>veri good qualiti love iphon</td>\n",
       "      <td>1</td>\n",
       "    </tr>\n",
       "    <tr>\n",
       "      <th>3724</th>\n",
       "      <td>awesom phone</td>\n",
       "      <td>0</td>\n",
       "    </tr>\n",
       "    <tr>\n",
       "      <th>3725</th>\n",
       "      <td>good</td>\n",
       "      <td>0</td>\n",
       "    </tr>\n",
       "  </tbody>\n",
       "</table>\n",
       "<p>3726 rows × 2 columns</p>\n",
       "</div>"
      ],
      "text/plain": [
       "                                              tokenized  target\n",
       "0     iphon review a person use everi major applic p...       1\n",
       "1     batteri lifephon performancecal feature/qu suberb       0\n",
       "2     been almost month i use iphon gb . appl known ...       1\n",
       "3     thi first iphon . after android enthusiast loy...       1\n",
       "4                                          good product       0\n",
       "...                                                 ...     ...\n",
       "3721                                        as expect !       0\n",
       "3722                         awsom love , like soo much       1\n",
       "3723                       veri good qualiti love iphon       1\n",
       "3724                                       awesom phone       0\n",
       "3725                                               good       0\n",
       "\n",
       "[3726 rows x 2 columns]"
      ]
     },
     "execution_count": 367,
     "metadata": {},
     "output_type": "execute_result"
    }
   ],
   "source": [
    "data3"
   ]
  },
  {
   "cell_type": "code",
   "execution_count": 368,
   "id": "b7bd582e",
   "metadata": {},
   "outputs": [
    {
     "data": {
      "text/html": [
       "<div>\n",
       "<style scoped>\n",
       "    .dataframe tbody tr th:only-of-type {\n",
       "        vertical-align: middle;\n",
       "    }\n",
       "\n",
       "    .dataframe tbody tr th {\n",
       "        vertical-align: top;\n",
       "    }\n",
       "\n",
       "    .dataframe thead th {\n",
       "        text-align: right;\n",
       "    }\n",
       "</style>\n",
       "<table border=\"1\" class=\"dataframe\">\n",
       "  <thead>\n",
       "    <tr style=\"text-align: right;\">\n",
       "      <th></th>\n",
       "      <th>tokenized</th>\n",
       "      <th>target</th>\n",
       "    </tr>\n",
       "  </thead>\n",
       "  <tbody>\n",
       "    <tr>\n",
       "      <th>110</th>\n",
       "      <td>the camera qualiti appl phone get worst worst ...</td>\n",
       "      <td>2</td>\n",
       "    </tr>\n",
       "    <tr>\n",
       "      <th>124</th>\n",
       "      <td>it 's great product price i bought . use vario...</td>\n",
       "      <td>2</td>\n",
       "    </tr>\n",
       "    <tr>\n",
       "      <th>125</th>\n",
       "      <td>to honest , hesit order read neg comment . it ...</td>\n",
       "      <td>2</td>\n",
       "    </tr>\n",
       "    <tr>\n",
       "      <th>130</th>\n",
       "      <td>i first time iphon user . i bought iphon last ...</td>\n",
       "      <td>2</td>\n",
       "    </tr>\n",
       "    <tr>\n",
       "      <th>138</th>\n",
       "      <td>if switch android follow thing frustrat appl :...</td>\n",
       "      <td>2</td>\n",
       "    </tr>\n",
       "    <tr>\n",
       "      <th>...</th>\n",
       "      <td>...</td>\n",
       "      <td>...</td>\n",
       "    </tr>\n",
       "    <tr>\n",
       "      <th>3351</th>\n",
       "      <td>veri bulki . so bulki finger hurt use phone.a ...</td>\n",
       "      <td>2</td>\n",
       "    </tr>\n",
       "    <tr>\n",
       "      <th>3428</th>\n",
       "      <td>amaz phone appl ..... unbeliev batteri back-up...</td>\n",
       "      <td>2</td>\n",
       "    </tr>\n",
       "    <tr>\n",
       "      <th>3603</th>\n",
       "      <td>the media could load . touch sensit poor . pho...</td>\n",
       "      <td>2</td>\n",
       "    </tr>\n",
       "    <tr>\n",
       "      <th>3619</th>\n",
       "      <td>bad camera qualiti phone heat kept charg</td>\n",
       "      <td>2</td>\n",
       "    </tr>\n",
       "    <tr>\n",
       "      <th>3667</th>\n",
       "      <td>receiv empti packag waranti card user manual ....</td>\n",
       "      <td>2</td>\n",
       "    </tr>\n",
       "  </tbody>\n",
       "</table>\n",
       "<p>77 rows × 2 columns</p>\n",
       "</div>"
      ],
      "text/plain": [
       "                                              tokenized  target\n",
       "110   the camera qualiti appl phone get worst worst ...       2\n",
       "124   it 's great product price i bought . use vario...       2\n",
       "125   to honest , hesit order read neg comment . it ...       2\n",
       "130   i first time iphon user . i bought iphon last ...       2\n",
       "138   if switch android follow thing frustrat appl :...       2\n",
       "...                                                 ...     ...\n",
       "3351  veri bulki . so bulki finger hurt use phone.a ...       2\n",
       "3428  amaz phone appl ..... unbeliev batteri back-up...       2\n",
       "3603  the media could load . touch sensit poor . pho...       2\n",
       "3619           bad camera qualiti phone heat kept charg       2\n",
       "3667  receiv empti packag waranti card user manual ....       2\n",
       "\n",
       "[77 rows x 2 columns]"
      ]
     },
     "execution_count": 368,
     "metadata": {},
     "output_type": "execute_result"
    }
   ],
   "source": [
    "data3[data3['target']==2]"
   ]
  },
  {
   "cell_type": "code",
   "execution_count": 369,
   "id": "39a66232",
   "metadata": {},
   "outputs": [
    {
     "name": "stdout",
     "output_type": "stream",
     "text": [
      "<class 'pandas.core.frame.DataFrame'>\n",
      "RangeIndex: 3726 entries, 0 to 3725\n",
      "Data columns (total 2 columns):\n",
      " #   Column     Non-Null Count  Dtype \n",
      "---  ------     --------------  ----- \n",
      " 0   tokenized  3726 non-null   object\n",
      " 1   target     3726 non-null   int64 \n",
      "dtypes: int64(1), object(1)\n",
      "memory usage: 58.3+ KB\n"
     ]
    }
   ],
   "source": [
    "data3.info()"
   ]
  },
  {
   "cell_type": "code",
   "execution_count": 370,
   "id": "8c5f9a6d",
   "metadata": {},
   "outputs": [
    {
     "data": {
      "text/plain": [
       "0    1858\n",
       "1    1791\n",
       "2      77\n",
       "Name: target, dtype: int64"
      ]
     },
     "execution_count": 370,
     "metadata": {},
     "output_type": "execute_result"
    }
   ],
   "source": [
    "data3['target'].value_counts()"
   ]
  },
  {
   "cell_type": "markdown",
   "id": "1fe3c0a2",
   "metadata": {},
   "source": [
    "### now we using CountVector"
   ]
  },
  {
   "cell_type": "code",
   "execution_count": 371,
   "id": "66b39bf3",
   "metadata": {},
   "outputs": [],
   "source": [
    "from sklearn.feature_extraction.text import CountVectorizer"
   ]
  },
  {
   "cell_type": "code",
   "execution_count": 372,
   "id": "1f5fab4a",
   "metadata": {},
   "outputs": [],
   "source": [
    "cv=CountVectorizer()\n",
    "cv_text=cv.fit_transform(data3['tokenized'])"
   ]
  },
  {
   "cell_type": "markdown",
   "id": "9f720b64",
   "metadata": {},
   "source": [
    "###  Logistic Regression"
   ]
  },
  {
   "cell_type": "code",
   "execution_count": 373,
   "id": "ff2e8733",
   "metadata": {},
   "outputs": [],
   "source": [
    "from sklearn.linear_model import LogisticRegression\n",
    "from sklearn.model_selection import train_test_split\n",
    "from sklearn.metrics import classification_report\n",
    "from imblearn.over_sampling import SMOTE"
   ]
  },
  {
   "cell_type": "code",
   "execution_count": 374,
   "id": "db674009",
   "metadata": {},
   "outputs": [],
   "source": [
    "lr=LogisticRegression()\n",
    "sm=SMOTE()"
   ]
  },
  {
   "cell_type": "code",
   "execution_count": 375,
   "id": "16732844",
   "metadata": {},
   "outputs": [],
   "source": [
    "x=cv_text\n",
    "y=data3['target']"
   ]
  },
  {
   "cell_type": "code",
   "execution_count": 376,
   "id": "b1c20492",
   "metadata": {},
   "outputs": [],
   "source": [
    "x_train,x_test,y_train,y_test=train_test_split(x,y,test_size=.33,random_state=42)"
   ]
  },
  {
   "cell_type": "code",
   "execution_count": 377,
   "id": "40402b0b",
   "metadata": {},
   "outputs": [],
   "source": [
    "x_train,y_train=sm.fit_resample(x_train,y_train)"
   ]
  },
  {
   "cell_type": "code",
   "execution_count": 378,
   "id": "be561274",
   "metadata": {},
   "outputs": [
    {
     "data": {
      "text/plain": [
       "1    1270\n",
       "0    1270\n",
       "2    1270\n",
       "Name: target, dtype: int64"
      ]
     },
     "execution_count": 378,
     "metadata": {},
     "output_type": "execute_result"
    }
   ],
   "source": [
    "y_train.value_counts()"
   ]
  },
  {
   "cell_type": "code",
   "execution_count": 379,
   "id": "e92437ac",
   "metadata": {},
   "outputs": [],
   "source": [
    "model_log=lr.fit(x_train,y_train)"
   ]
  },
  {
   "cell_type": "code",
   "execution_count": 380,
   "id": "314ef852",
   "metadata": {},
   "outputs": [
    {
     "name": "stdout",
     "output_type": "stream",
     "text": [
      "accuracy : 96.27296587926509\n"
     ]
    }
   ],
   "source": [
    "print('accuracy :',model_log.score(x_train,y_train)*100)"
   ]
  },
  {
   "cell_type": "code",
   "execution_count": 381,
   "id": "84ff5ef8",
   "metadata": {},
   "outputs": [
    {
     "name": "stdout",
     "output_type": "stream",
     "text": [
      "accuracy : 77.72357723577235\n"
     ]
    }
   ],
   "source": [
    "print('accuracy :',model_log.score(x_test,y_test)*100)"
   ]
  },
  {
   "cell_type": "code",
   "execution_count": 382,
   "id": "5f4dadc8",
   "metadata": {},
   "outputs": [],
   "source": [
    "y_pred=model_log.predict(x_test)"
   ]
  },
  {
   "cell_type": "code",
   "execution_count": 383,
   "id": "12cf07c2",
   "metadata": {},
   "outputs": [
    {
     "name": "stdout",
     "output_type": "stream",
     "text": [
      "              precision    recall  f1-score   support\n",
      "\n",
      "           0       0.75      0.80      0.77       548\n",
      "           1       0.83      0.90      0.86       566\n",
      "           2       0.21      0.04      0.07       116\n",
      "\n",
      "    accuracy                           0.78      1230\n",
      "   macro avg       0.59      0.58      0.57      1230\n",
      "weighted avg       0.73      0.78      0.75      1230\n",
      "\n"
     ]
    }
   ],
   "source": [
    "print(classification_report(y_pred,y_test))"
   ]
  },
  {
   "cell_type": "markdown",
   "id": "0ce76acb",
   "metadata": {},
   "source": [
    "###  Naive Bayes"
   ]
  },
  {
   "cell_type": "code",
   "execution_count": 384,
   "id": "a8348d0e",
   "metadata": {},
   "outputs": [],
   "source": [
    "from sklearn.naive_bayes import MultinomialNB"
   ]
  },
  {
   "cell_type": "code",
   "execution_count": 385,
   "id": "3e71eacc",
   "metadata": {},
   "outputs": [],
   "source": [
    "nb=MultinomialNB()\n",
    "model_2=nb.fit(x_train,y_train)"
   ]
  },
  {
   "cell_type": "code",
   "execution_count": 386,
   "id": "055022fd",
   "metadata": {},
   "outputs": [
    {
     "name": "stdout",
     "output_type": "stream",
     "text": [
      "accuracy : 75.64304461942257\n"
     ]
    }
   ],
   "source": [
    "print('accuracy :',model_2.score(x_train,y_train)*100)"
   ]
  },
  {
   "cell_type": "code",
   "execution_count": 387,
   "id": "70e24cad",
   "metadata": {},
   "outputs": [
    {
     "name": "stdout",
     "output_type": "stream",
     "text": [
      "accuracy : 68.78048780487805\n"
     ]
    }
   ],
   "source": [
    "print('accuracy :',model_2.score(x_test,y_test)*100)"
   ]
  },
  {
   "cell_type": "code",
   "execution_count": 388,
   "id": "3bdbb497",
   "metadata": {},
   "outputs": [],
   "source": [
    "y_pred=model_2.predict(x_test)"
   ]
  },
  {
   "cell_type": "code",
   "execution_count": 389,
   "id": "cba846c0",
   "metadata": {},
   "outputs": [
    {
     "name": "stdout",
     "output_type": "stream",
     "text": [
      "              precision    recall  f1-score   support\n",
      "\n",
      "           0       0.53      0.76      0.63       410\n",
      "           1       0.86      0.69      0.76       768\n",
      "           2       0.17      0.08      0.11        52\n",
      "\n",
      "    accuracy                           0.69      1230\n",
      "   macro avg       0.52      0.51      0.50      1230\n",
      "weighted avg       0.72      0.69      0.69      1230\n",
      "\n"
     ]
    }
   ],
   "source": [
    "print(classification_report(y_pred,y_test))"
   ]
  },
  {
   "cell_type": "markdown",
   "id": "3c3c00d2",
   "metadata": {},
   "source": [
    "### Decision Tree"
   ]
  },
  {
   "cell_type": "code",
   "execution_count": 390,
   "id": "90600959",
   "metadata": {},
   "outputs": [],
   "source": [
    "from sklearn.tree import DecisionTreeClassifier"
   ]
  },
  {
   "cell_type": "code",
   "execution_count": 391,
   "id": "88973b22",
   "metadata": {},
   "outputs": [],
   "source": [
    "dt=DecisionTreeClassifier()\n",
    "model_3=dt.fit(x_train,y_train)"
   ]
  },
  {
   "cell_type": "code",
   "execution_count": 392,
   "id": "58bf6546",
   "metadata": {},
   "outputs": [
    {
     "name": "stdout",
     "output_type": "stream",
     "text": [
      "accuracy : 99.26509186351706\n"
     ]
    }
   ],
   "source": [
    "print('accuracy :',model_3.score(x_train,y_train)*100)"
   ]
  },
  {
   "cell_type": "code",
   "execution_count": 393,
   "id": "a051937c",
   "metadata": {},
   "outputs": [
    {
     "name": "stdout",
     "output_type": "stream",
     "text": [
      "accuracy : 75.28455284552845\n"
     ]
    }
   ],
   "source": [
    "print('accuracy :',model_3.score(x_test,y_test)*100)"
   ]
  },
  {
   "cell_type": "code",
   "execution_count": 394,
   "id": "0b67ad83",
   "metadata": {},
   "outputs": [],
   "source": [
    "y_pred=model_3.predict(x_test)"
   ]
  },
  {
   "cell_type": "code",
   "execution_count": 395,
   "id": "8e89f86f",
   "metadata": {},
   "outputs": [
    {
     "name": "stdout",
     "output_type": "stream",
     "text": [
      "              precision    recall  f1-score   support\n",
      "\n",
      "           0       0.76      0.75      0.75       593\n",
      "           1       0.77      0.88      0.82       539\n",
      "           2       0.25      0.06      0.10        98\n",
      "\n",
      "    accuracy                           0.75      1230\n",
      "   macro avg       0.59      0.56      0.56      1230\n",
      "weighted avg       0.72      0.75      0.73      1230\n",
      "\n"
     ]
    }
   ],
   "source": [
    "print(classification_report(y_pred,y_test))"
   ]
  },
  {
   "cell_type": "markdown",
   "id": "52eb7531",
   "metadata": {},
   "source": [
    "### Now we are using TF-IDF"
   ]
  },
  {
   "cell_type": "code",
   "execution_count": 396,
   "id": "995f4ef5",
   "metadata": {},
   "outputs": [],
   "source": [
    "from sklearn.feature_extraction.text import TfidfVectorizer"
   ]
  },
  {
   "cell_type": "code",
   "execution_count": 397,
   "id": "3ef0f64c",
   "metadata": {},
   "outputs": [],
   "source": [
    "tf=TfidfVectorizer()\n",
    "tf_text=tf.fit_transform(data3['tokenized'])"
   ]
  },
  {
   "cell_type": "code",
   "execution_count": 398,
   "id": "7df8b2ab",
   "metadata": {},
   "outputs": [],
   "source": [
    "x=tf_text\n",
    "y=data3['target']"
   ]
  },
  {
   "cell_type": "code",
   "execution_count": 399,
   "id": "b63ac60e",
   "metadata": {},
   "outputs": [
    {
     "data": {
      "text/plain": [
       "1    1270\n",
       "0    1270\n",
       "2    1270\n",
       "Name: target, dtype: int64"
      ]
     },
     "execution_count": 399,
     "metadata": {},
     "output_type": "execute_result"
    }
   ],
   "source": [
    "x_train,x_test,y_train,y_test=train_test_split(x,y,test_size=.33,random_state=42)\n",
    "x_train,y_train=sm.fit_resample(x_train,y_train)\n",
    "y_train.value_counts()"
   ]
  },
  {
   "cell_type": "markdown",
   "id": "605078f3",
   "metadata": {},
   "source": [
    "### Logistic regression"
   ]
  },
  {
   "cell_type": "code",
   "execution_count": 414,
   "id": "4e4fb65c",
   "metadata": {},
   "outputs": [],
   "source": [
    "lr=LogisticRegression()\n",
    "tf_model_1=lr.fit(x_train,y_train)"
   ]
  },
  {
   "cell_type": "code",
   "execution_count": 415,
   "id": "3eb4f0c4",
   "metadata": {},
   "outputs": [
    {
     "name": "stdout",
     "output_type": "stream",
     "text": [
      "accuracy : 94.33070866141732\n"
     ]
    }
   ],
   "source": [
    "print('accuracy :',tf_model_1.score(x_train,y_train)*100)"
   ]
  },
  {
   "cell_type": "code",
   "execution_count": 419,
   "id": "c4eae87f",
   "metadata": {},
   "outputs": [
    {
     "name": "stdout",
     "output_type": "stream",
     "text": [
      "accuracy : 81.70731707317073\n"
     ]
    }
   ],
   "source": [
    "print('accuracy :',tf_model_1.score(x_test,y_test)*100)"
   ]
  },
  {
   "cell_type": "code",
   "execution_count": 420,
   "id": "3a65595e",
   "metadata": {},
   "outputs": [],
   "source": [
    "y_pred=tf_model_1.predict(x_test)"
   ]
  },
  {
   "cell_type": "code",
   "execution_count": 421,
   "id": "2065a244",
   "metadata": {},
   "outputs": [
    {
     "name": "stdout",
     "output_type": "stream",
     "text": [
      "              precision    recall  f1-score   support\n",
      "\n",
      "           0       0.86      0.78      0.82       649\n",
      "           1       0.79      0.88      0.83       560\n",
      "           2       0.29      0.33      0.31        21\n",
      "\n",
      "    accuracy                           0.82      1230\n",
      "   macro avg       0.65      0.66      0.65      1230\n",
      "weighted avg       0.82      0.82      0.82      1230\n",
      "\n"
     ]
    }
   ],
   "source": [
    "print(classification_report(y_pred,y_test)) #81"
   ]
  },
  {
   "cell_type": "markdown",
   "id": "f031cd11",
   "metadata": {},
   "source": [
    "### Naive bayes"
   ]
  },
  {
   "cell_type": "code",
   "execution_count": 422,
   "id": "a95281b2",
   "metadata": {},
   "outputs": [],
   "source": [
    "tf_model_2=nb.fit(x_train,y_train)"
   ]
  },
  {
   "cell_type": "code",
   "execution_count": 423,
   "id": "915a7007",
   "metadata": {},
   "outputs": [
    {
     "name": "stdout",
     "output_type": "stream",
     "text": [
      "accuracy : 87.71653543307086\n"
     ]
    }
   ],
   "source": [
    "print('accuracy :',tf_model_2.score(x_train,y_train)*100)"
   ]
  },
  {
   "cell_type": "code",
   "execution_count": 424,
   "id": "a6703171",
   "metadata": {},
   "outputs": [
    {
     "name": "stdout",
     "output_type": "stream",
     "text": [
      "accuracy : 67.96747967479675\n"
     ]
    }
   ],
   "source": [
    "print('accuracy :',tf_model_2.score(x_test,y_test)*100)"
   ]
  },
  {
   "cell_type": "code",
   "execution_count": 425,
   "id": "33ae3317",
   "metadata": {},
   "outputs": [],
   "source": [
    "y_pred=tf_model_2.predict(x_test)"
   ]
  },
  {
   "cell_type": "code",
   "execution_count": 426,
   "id": "146bbb46",
   "metadata": {},
   "outputs": [
    {
     "name": "stdout",
     "output_type": "stream",
     "text": [
      "              precision    recall  f1-score   support\n",
      "\n",
      "           0       0.51      0.79      0.62       376\n",
      "           1       0.85      0.70      0.77       757\n",
      "           2       0.46      0.11      0.18        97\n",
      "\n",
      "    accuracy                           0.68      1230\n",
      "   macro avg       0.61      0.53      0.52      1230\n",
      "weighted avg       0.72      0.68      0.68      1230\n",
      "\n"
     ]
    }
   ],
   "source": [
    "print(classification_report(y_pred,y_test))"
   ]
  },
  {
   "cell_type": "markdown",
   "id": "a53892d6",
   "metadata": {},
   "source": [
    "### Decision Tree"
   ]
  },
  {
   "cell_type": "code",
   "execution_count": 428,
   "id": "f7e9d3cc",
   "metadata": {},
   "outputs": [
    {
     "name": "stdout",
     "output_type": "stream",
     "text": [
      "accuracy : 99.86876640419948\n"
     ]
    }
   ],
   "source": [
    "dt=DecisionTreeClassifier()\n",
    "tf_model_3=dt.fit(x_train,y_train)\n",
    "print('accuracy :',tf_model_3.score(x_train,y_train)*100)"
   ]
  },
  {
   "cell_type": "code",
   "execution_count": 429,
   "id": "5965c7b4",
   "metadata": {},
   "outputs": [
    {
     "name": "stdout",
     "output_type": "stream",
     "text": [
      "accuracy : 78.86178861788618\n"
     ]
    }
   ],
   "source": [
    "print('accuracy :',tf_model_3.score(x_test,y_test)*100)"
   ]
  },
  {
   "cell_type": "code",
   "execution_count": 430,
   "id": "ff3a0be8",
   "metadata": {},
   "outputs": [],
   "source": [
    "y_pred=tf_model_3.predict(x_test)"
   ]
  },
  {
   "cell_type": "code",
   "execution_count": 431,
   "id": "1515d9e5",
   "metadata": {},
   "outputs": [
    {
     "name": "stdout",
     "output_type": "stream",
     "text": [
      "              precision    recall  f1-score   support\n",
      "\n",
      "           0       0.84      0.77      0.80       646\n",
      "           1       0.76      0.84      0.80       556\n",
      "           2       0.25      0.21      0.23        28\n",
      "\n",
      "    accuracy                           0.79      1230\n",
      "   macro avg       0.62      0.61      0.61      1230\n",
      "weighted avg       0.79      0.79      0.79      1230\n",
      "\n"
     ]
    }
   ],
   "source": [
    "print(classification_report(y_pred,y_test))"
   ]
  },
  {
   "cell_type": "markdown",
   "id": "aa14682a",
   "metadata": {},
   "source": [
    "## as we can see in TF-IDF if we use Logistic Rgeression we got 82% accuracy in test data so if i use other algorithms. then may get better model with better accuracy compare to Logistic Regression"
   ]
  },
  {
   "cell_type": "code",
   "execution_count": null,
   "id": "fa69ffdd",
   "metadata": {},
   "outputs": [],
   "source": []
  },
  {
   "cell_type": "code",
   "execution_count": null,
   "id": "aee4d7e4",
   "metadata": {},
   "outputs": [],
   "source": []
  }
 ],
 "metadata": {
  "kernelspec": {
   "display_name": "Python 3 (ipykernel)",
   "language": "python",
   "name": "python3"
  },
  "language_info": {
   "codemirror_mode": {
    "name": "ipython",
    "version": 3
   },
   "file_extension": ".py",
   "mimetype": "text/x-python",
   "name": "python",
   "nbconvert_exporter": "python",
   "pygments_lexer": "ipython3",
   "version": "3.9.12"
  }
 },
 "nbformat": 4,
 "nbformat_minor": 5
}
